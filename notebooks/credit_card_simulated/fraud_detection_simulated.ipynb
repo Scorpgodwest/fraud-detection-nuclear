{
 "cells": [
  {
   "cell_type": "markdown",
   "id": "17e2cf7e-7d6b-4515-8729-16ad92b9fd23",
   "metadata": {},
   "source": [
    "<h1>Детектирование фродовых транзакций (V1)</h1>"
   ]
  },
  {
   "cell_type": "markdown",
   "id": "1e83c74b-fe63-4c04-81e2-3c9eb809ca96",
   "metadata": {
    "tags": []
   },
   "source": [
    "<h4>Датасет: https://www.kaggle.com/datasets/kartik2112/fraud-detection</h4>"
   ]
  },
  {
   "cell_type": "markdown",
   "id": "791bea1e-0e90-42e8-be6c-e22d753b4fb0",
   "metadata": {},
   "source": [
    "О наборе данных\n",
    "\n",
    "Это смоделированный набор данных о транзакциях по кредитным картам, содержащий законные и мошеннические транзакции за период с 1 января 2019 года по 31 декабря 2020 года. Он охватывает кредитные карты 1000 клиентов, совершающих транзакции с пулом из 800 торговцев.\n",
    "\n",
    "Источник моделирования\n",
    "\n",
    "Она была создана с помощью инструмента Sparkov Data Generation | Github, созданного Брэндоном Харрисом. Эта симуляция была запущена на период с 1 января 2019 года по 31 декабря 2020 года. Файлы были объединены и преобразованы в стандартный формат.\n",
    "\n",
    "Информация о симуляторе\n",
    "\n",
    "Я не являюсь владельцем симулятора. Я воспользовался тем, который использовал Брэндон Харрис, и, чтобы понять, как он работает, просмотрел несколько фрагментов кода. Вот что я понял из прочитанного:\n",
    "\n",
    "Симулятор имеет определенный заранее заданный список продавцов, клиентов и категорий транзакций. Затем с помощью библиотеки python под названием \"faker\" и с учетом количества клиентов, продавцов, которые вы упоминаете во время симуляции, создается промежуточный список.\n",
    "\n",
    "После этого, в зависимости от выбранного профиля, например \"adults 2550 female rural.json\" (что означает моделирование свойств взрослых женщин в возрасте 25-50 лет, проживающих в сельской местности), создаются транзакции. Скажем, для этого профиля можно проверить \"Sparkov | Github | adults_2550_female_rural.json\", там определены диапазоны значений параметров: минимальное и максимальное количество транзакций в день, распределение транзакций по дням недели и свойства нормального распределения (среднее, стандартное отклонение) для сумм в различных категориях. Используя эти показатели распределений, транзакции генерируются с помощью программы faker.\n",
    "\n",
    "Я сгенерировал транзакции по всем профилям, а затем объединил их вместе, чтобы создать более реалистичное представление симулированных транзакций.\n"
   ]
  },
  {
   "cell_type": "code",
   "execution_count": 14,
   "id": "083c95f8-a4a9-4702-9b39-ea403278bba7",
   "metadata": {
    "tags": []
   },
   "outputs": [],
   "source": [
    "import pandas as pd\n",
    "import numpy as np\n",
    "import seaborn as sns\n",
    "import matplotlib.pyplot as plt\n",
    "%matplotlib inline\n",
    "sns.set(style='darkgrid')"
   ]
  },
  {
   "cell_type": "markdown",
   "id": "abd16935-e8c6-431d-813b-1fc1f13156bb",
   "metadata": {
    "tags": []
   },
   "source": [
    "<h1>Загрузка данных</h1>"
   ]
  },
  {
   "cell_type": "code",
   "execution_count": 15,
   "id": "0901d116-8b41-44bc-ab20-30a4acc5ab64",
   "metadata": {
    "tags": []
   },
   "outputs": [
    {
     "name": "stdout",
     "output_type": "stream",
     "text": [
      "Rows: 1296675 | Columns: 22 (Train)\n",
      "Rows: 555719 | Columns: 22 (Test)\n"
     ]
    }
   ],
   "source": [
    "df_train = pd.read_csv('../data/credit_card_fraud_detection/fraudTrain.csv', index_col=0)\n",
    "df_test = pd.read_csv('../data/credit_card_fraud_detection/fraudTest.csv', index_col=0)\n",
    "print(f'Rows: {df_train.shape[0]} | Columns: {df_train.shape[1]} (Train)')\n",
    "print(f'Rows: {df_test.shape[0]} | Columns: {df_test.shape[1]} (Test)')"
   ]
  },
  {
   "cell_type": "code",
   "execution_count": 16,
   "id": "7f754a47-e20b-407a-897c-f01e616916dc",
   "metadata": {
    "tags": []
   },
   "outputs": [
    {
     "data": {
      "text/html": [
       "<div>\n",
       "<style scoped>\n",
       "    .dataframe tbody tr th:only-of-type {\n",
       "        vertical-align: middle;\n",
       "    }\n",
       "\n",
       "    .dataframe tbody tr th {\n",
       "        vertical-align: top;\n",
       "    }\n",
       "\n",
       "    .dataframe thead th {\n",
       "        text-align: right;\n",
       "    }\n",
       "</style>\n",
       "<table border=\"1\" class=\"dataframe\">\n",
       "  <thead>\n",
       "    <tr style=\"text-align: right;\">\n",
       "      <th></th>\n",
       "      <th>trans_date_trans_time</th>\n",
       "      <th>cc_num</th>\n",
       "      <th>merchant</th>\n",
       "      <th>category</th>\n",
       "      <th>amt</th>\n",
       "      <th>first</th>\n",
       "      <th>last</th>\n",
       "      <th>gender</th>\n",
       "      <th>street</th>\n",
       "      <th>city</th>\n",
       "      <th>...</th>\n",
       "      <th>lat</th>\n",
       "      <th>long</th>\n",
       "      <th>city_pop</th>\n",
       "      <th>job</th>\n",
       "      <th>dob</th>\n",
       "      <th>trans_num</th>\n",
       "      <th>unix_time</th>\n",
       "      <th>merch_lat</th>\n",
       "      <th>merch_long</th>\n",
       "      <th>is_fraud</th>\n",
       "    </tr>\n",
       "  </thead>\n",
       "  <tbody>\n",
       "    <tr>\n",
       "      <th>0</th>\n",
       "      <td>2019-01-01 00:00:18</td>\n",
       "      <td>2703186189652095</td>\n",
       "      <td>fraud_Rippin, Kub and Mann</td>\n",
       "      <td>misc_net</td>\n",
       "      <td>4.97</td>\n",
       "      <td>Jennifer</td>\n",
       "      <td>Banks</td>\n",
       "      <td>F</td>\n",
       "      <td>561 Perry Cove</td>\n",
       "      <td>Moravian Falls</td>\n",
       "      <td>...</td>\n",
       "      <td>36.0788</td>\n",
       "      <td>-81.1781</td>\n",
       "      <td>3495</td>\n",
       "      <td>Psychologist, counselling</td>\n",
       "      <td>1988-03-09</td>\n",
       "      <td>0b242abb623afc578575680df30655b9</td>\n",
       "      <td>1325376018</td>\n",
       "      <td>36.011293</td>\n",
       "      <td>-82.048315</td>\n",
       "      <td>0</td>\n",
       "    </tr>\n",
       "    <tr>\n",
       "      <th>1</th>\n",
       "      <td>2019-01-01 00:00:44</td>\n",
       "      <td>630423337322</td>\n",
       "      <td>fraud_Heller, Gutmann and Zieme</td>\n",
       "      <td>grocery_pos</td>\n",
       "      <td>107.23</td>\n",
       "      <td>Stephanie</td>\n",
       "      <td>Gill</td>\n",
       "      <td>F</td>\n",
       "      <td>43039 Riley Greens Suite 393</td>\n",
       "      <td>Orient</td>\n",
       "      <td>...</td>\n",
       "      <td>48.8878</td>\n",
       "      <td>-118.2105</td>\n",
       "      <td>149</td>\n",
       "      <td>Special educational needs teacher</td>\n",
       "      <td>1978-06-21</td>\n",
       "      <td>1f76529f8574734946361c461b024d99</td>\n",
       "      <td>1325376044</td>\n",
       "      <td>49.159047</td>\n",
       "      <td>-118.186462</td>\n",
       "      <td>0</td>\n",
       "    </tr>\n",
       "    <tr>\n",
       "      <th>2</th>\n",
       "      <td>2019-01-01 00:00:51</td>\n",
       "      <td>38859492057661</td>\n",
       "      <td>fraud_Lind-Buckridge</td>\n",
       "      <td>entertainment</td>\n",
       "      <td>220.11</td>\n",
       "      <td>Edward</td>\n",
       "      <td>Sanchez</td>\n",
       "      <td>M</td>\n",
       "      <td>594 White Dale Suite 530</td>\n",
       "      <td>Malad City</td>\n",
       "      <td>...</td>\n",
       "      <td>42.1808</td>\n",
       "      <td>-112.2620</td>\n",
       "      <td>4154</td>\n",
       "      <td>Nature conservation officer</td>\n",
       "      <td>1962-01-19</td>\n",
       "      <td>a1a22d70485983eac12b5b88dad1cf95</td>\n",
       "      <td>1325376051</td>\n",
       "      <td>43.150704</td>\n",
       "      <td>-112.154481</td>\n",
       "      <td>0</td>\n",
       "    </tr>\n",
       "    <tr>\n",
       "      <th>3</th>\n",
       "      <td>2019-01-01 00:01:16</td>\n",
       "      <td>3534093764340240</td>\n",
       "      <td>fraud_Kutch, Hermiston and Farrell</td>\n",
       "      <td>gas_transport</td>\n",
       "      <td>45.00</td>\n",
       "      <td>Jeremy</td>\n",
       "      <td>White</td>\n",
       "      <td>M</td>\n",
       "      <td>9443 Cynthia Court Apt. 038</td>\n",
       "      <td>Boulder</td>\n",
       "      <td>...</td>\n",
       "      <td>46.2306</td>\n",
       "      <td>-112.1138</td>\n",
       "      <td>1939</td>\n",
       "      <td>Patent attorney</td>\n",
       "      <td>1967-01-12</td>\n",
       "      <td>6b849c168bdad6f867558c3793159a81</td>\n",
       "      <td>1325376076</td>\n",
       "      <td>47.034331</td>\n",
       "      <td>-112.561071</td>\n",
       "      <td>0</td>\n",
       "    </tr>\n",
       "    <tr>\n",
       "      <th>4</th>\n",
       "      <td>2019-01-01 00:03:06</td>\n",
       "      <td>375534208663984</td>\n",
       "      <td>fraud_Keeling-Crist</td>\n",
       "      <td>misc_pos</td>\n",
       "      <td>41.96</td>\n",
       "      <td>Tyler</td>\n",
       "      <td>Garcia</td>\n",
       "      <td>M</td>\n",
       "      <td>408 Bradley Rest</td>\n",
       "      <td>Doe Hill</td>\n",
       "      <td>...</td>\n",
       "      <td>38.4207</td>\n",
       "      <td>-79.4629</td>\n",
       "      <td>99</td>\n",
       "      <td>Dance movement psychotherapist</td>\n",
       "      <td>1986-03-28</td>\n",
       "      <td>a41d7549acf90789359a9aa5346dcb46</td>\n",
       "      <td>1325376186</td>\n",
       "      <td>38.674999</td>\n",
       "      <td>-78.632459</td>\n",
       "      <td>0</td>\n",
       "    </tr>\n",
       "  </tbody>\n",
       "</table>\n",
       "<p>5 rows × 22 columns</p>\n",
       "</div>"
      ],
      "text/plain": [
       "  trans_date_trans_time            cc_num                            merchant  \\\n",
       "0   2019-01-01 00:00:18  2703186189652095          fraud_Rippin, Kub and Mann   \n",
       "1   2019-01-01 00:00:44      630423337322     fraud_Heller, Gutmann and Zieme   \n",
       "2   2019-01-01 00:00:51    38859492057661                fraud_Lind-Buckridge   \n",
       "3   2019-01-01 00:01:16  3534093764340240  fraud_Kutch, Hermiston and Farrell   \n",
       "4   2019-01-01 00:03:06   375534208663984                 fraud_Keeling-Crist   \n",
       "\n",
       "        category     amt      first     last gender  \\\n",
       "0       misc_net    4.97   Jennifer    Banks      F   \n",
       "1    grocery_pos  107.23  Stephanie     Gill      F   \n",
       "2  entertainment  220.11     Edward  Sanchez      M   \n",
       "3  gas_transport   45.00     Jeremy    White      M   \n",
       "4       misc_pos   41.96      Tyler   Garcia      M   \n",
       "\n",
       "                         street            city  ...      lat      long  \\\n",
       "0                561 Perry Cove  Moravian Falls  ...  36.0788  -81.1781   \n",
       "1  43039 Riley Greens Suite 393          Orient  ...  48.8878 -118.2105   \n",
       "2      594 White Dale Suite 530      Malad City  ...  42.1808 -112.2620   \n",
       "3   9443 Cynthia Court Apt. 038         Boulder  ...  46.2306 -112.1138   \n",
       "4              408 Bradley Rest        Doe Hill  ...  38.4207  -79.4629   \n",
       "\n",
       "   city_pop                                job         dob  \\\n",
       "0      3495          Psychologist, counselling  1988-03-09   \n",
       "1       149  Special educational needs teacher  1978-06-21   \n",
       "2      4154        Nature conservation officer  1962-01-19   \n",
       "3      1939                    Patent attorney  1967-01-12   \n",
       "4        99     Dance movement psychotherapist  1986-03-28   \n",
       "\n",
       "                          trans_num   unix_time  merch_lat  merch_long  \\\n",
       "0  0b242abb623afc578575680df30655b9  1325376018  36.011293  -82.048315   \n",
       "1  1f76529f8574734946361c461b024d99  1325376044  49.159047 -118.186462   \n",
       "2  a1a22d70485983eac12b5b88dad1cf95  1325376051  43.150704 -112.154481   \n",
       "3  6b849c168bdad6f867558c3793159a81  1325376076  47.034331 -112.561071   \n",
       "4  a41d7549acf90789359a9aa5346dcb46  1325376186  38.674999  -78.632459   \n",
       "\n",
       "   is_fraud  \n",
       "0         0  \n",
       "1         0  \n",
       "2         0  \n",
       "3         0  \n",
       "4         0  \n",
       "\n",
       "[5 rows x 22 columns]"
      ]
     },
     "execution_count": 16,
     "metadata": {},
     "output_type": "execute_result"
    }
   ],
   "source": [
    "df_train.head()"
   ]
  },
  {
   "cell_type": "code",
   "execution_count": 17,
   "id": "c8958ae0-1fd8-4298-b854-482fcffacd5c",
   "metadata": {
    "tags": []
   },
   "outputs": [],
   "source": [
    "df = pd.concat([df_train, df_test], axis=0).reset_index(drop=True)"
   ]
  },
  {
   "cell_type": "code",
   "execution_count": 18,
   "id": "22402f56-938e-4bdf-9685-ea8eceab4fd9",
   "metadata": {},
   "outputs": [
    {
     "name": "stdout",
     "output_type": "stream",
     "text": [
      "Numerical cols: ['amt', 'lat', 'long', 'merch_lat', 'merch_long']\n",
      "Categorical cols: ['trans_date_trans_time', 'merchant', 'category', 'first', 'last', 'gender', 'street', 'city', 'state', 'job', 'dob', 'trans_num']\n"
     ]
    }
   ],
   "source": [
    "num_cols = df.loc[:, df.dtypes==np.number].columns.to_list()\n",
    "cat_cols = df.loc[:, df.dtypes==object].columns.to_list()\n",
    "print(f'Numerical cols: {num_cols}')\n",
    "print(f'Categorical cols: {cat_cols}')"
   ]
  },
  {
   "cell_type": "code",
   "execution_count": 19,
   "id": "09bc273d-809c-43c6-b419-d9617ec94e9d",
   "metadata": {
    "tags": []
   },
   "outputs": [],
   "source": [
    "df = df.drop_duplicates()"
   ]
  },
  {
   "cell_type": "code",
   "execution_count": null,
   "id": "e6015f86-9c85-4173-9e76-37b7e9ddfbbf",
   "metadata": {},
   "outputs": [],
   "source": []
  },
  {
   "cell_type": "code",
   "execution_count": 20,
   "id": "09501ca1-ea2b-42c6-a3a0-8e18a272b6e9",
   "metadata": {
    "tags": []
   },
   "outputs": [],
   "source": [
    "df['trans_date_trans_time'] = pd.to_datetime(df['trans_date_trans_time'])"
   ]
  },
  {
   "cell_type": "code",
   "execution_count": 21,
   "id": "974d6942-8cda-4aa9-b4c7-5260e4cdf1c0",
   "metadata": {
    "tags": []
   },
   "outputs": [],
   "source": [
    "df['month'] = df['trans_date_trans_time'].dt.month\n",
    "df[\"day_of_week\"] = df['trans_date_trans_time'].dt.dayofweek\n",
    "df[\"is_weekend\"] = (df['trans_date_trans_time'].dt.dayofweek > 4).astype(int)\n",
    "df['hour'] = (df['trans_date_trans_time'].dt.hour).astype(int)"
   ]
  },
  {
   "cell_type": "code",
   "execution_count": 22,
   "id": "08aa5b20-485a-4730-9413-2d1989ef191b",
   "metadata": {
    "tags": []
   },
   "outputs": [],
   "source": [
    "df['num_of_trans'] = df['cc_num'].map(df.groupby('cc_num')['merchant'].count())\n",
    "df['num_of_unique_merchant'] = df['cc_num'].map(df.groupby('cc_num')['merchant'].nunique())"
   ]
  },
  {
   "cell_type": "code",
   "execution_count": 23,
   "id": "6455cce7-a255-453a-8f54-309489d65ca1",
   "metadata": {
    "tags": []
   },
   "outputs": [],
   "source": [
    "df['lat_std'] = df['cc_num'].map(df.groupby('cc_num')['lat'].std())\n",
    "df['long_std'] = df['cc_num'].map(df.groupby('cc_num')['long'].std())"
   ]
  },
  {
   "cell_type": "code",
   "execution_count": 24,
   "id": "4a511ddc-7bfd-4bd0-8ae5-721500b48ed5",
   "metadata": {
    "tags": []
   },
   "outputs": [],
   "source": [
    "df['country'] = 'United States'"
   ]
  },
  {
   "cell_type": "code",
   "execution_count": 25,
   "id": "40b7d888-3897-43bc-aff5-e61437ec11e0",
   "metadata": {
    "tags": []
   },
   "outputs": [],
   "source": [
    "df['mean_amt_per_category'] = df['category'].map(df.groupby('category')['amt'].mean())"
   ]
  },
  {
   "cell_type": "code",
   "execution_count": 26,
   "id": "e8ffe367-669f-4173-a2a4-40177c1924e6",
   "metadata": {
    "tags": []
   },
   "outputs": [
    {
     "name": "stdout",
     "output_type": "stream",
     "text": [
      "Rows: 1852394 | Columns: 32 (Full)\n"
     ]
    }
   ],
   "source": [
    "df = df.sort_values(by='trans_date_trans_time')\n",
    "print(f'Rows: {df.shape[0]} | Columns: {df.shape[1]} (Full)')"
   ]
  },
  {
   "cell_type": "code",
   "execution_count": 27,
   "id": "d844f59d-a0f7-43ca-9dca-e411193cf6cc",
   "metadata": {
    "tags": []
   },
   "outputs": [],
   "source": [
    "df = df.drop(['first', 'last', 'trans_date_trans_time', 'street'], axis=1)"
   ]
  },
  {
   "cell_type": "code",
   "execution_count": 28,
   "id": "0a76c3b1-1a80-4acd-ba35-a77ab8fad109",
   "metadata": {
    "tags": []
   },
   "outputs": [],
   "source": [
    "# from geopy.geocoders import Nominatim\n",
    "# from geopy.extra.rate_limiter import RateLimiter\n",
    "\n",
    "# # Load your CSV file into a pandas DataFrame\n",
    "\n",
    "# # Initialize a geolocator with a rate limiter to avoid overloading the service\n",
    "# geolocator = Nominatim(user_agent=\"geo_analysis\")\n",
    "# geocode = RateLimiter(geolocator.reverse, min_delay_seconds=1)\n",
    "\n",
    "# # Function to get country name from coordinates\n",
    "# def get_country_name(lat, lon):\n",
    "#     location = geocode((lat, lon), exactly_one=True)\n",
    "#     if location:\n",
    "#         # return location.raw['address']['country']\n",
    "#     else:\n",
    "#         return None\n",
    "\n",
    "# # Apply the function to each row of the DataFrame in parallel\n",
    "# df['country'] = df.apply(lambda row: get_country_name(row['merch_lat'], row['merch_long']), axis=1)\n"
   ]
  },
  {
   "cell_type": "code",
   "execution_count": 29,
   "id": "f591ce6f-b406-4483-882c-b2b9bcb0f32d",
   "metadata": {
    "tags": []
   },
   "outputs": [],
   "source": [
    "allLat  = list(df['lat']) + list(df['merch_lat'])\n",
    "medianLat  = sorted(allLat)[int(len(allLat)/2)]\n",
    "latMultiplier  = 111.32\n",
    "\n",
    "df['lat']   = latMultiplier  * (df['lat']   - medianLat)\n",
    "df['merch_lat']   = latMultiplier  * (df['merch_lat']  - medianLat)\n",
    "allLong = list(df['long']) + list(df['merch_long'])\n",
    "\n",
    "medianLong  = sorted(allLong)[int(len(allLong)/2)]\n",
    "\n",
    "longMultiplier = np.cos(medianLat*(np.pi/180.0)) * 111.32\n",
    "### Your code is here\n",
    "\n",
    "df['long']  = longMultiplier * (df['long']  - medianLong)\n",
    "df['merch_long']  = longMultiplier * (df['merch_long'] - medianLong)\n",
    "\n",
    "df.head(5)\n",
    "### Your code is here\n",
    "\n",
    "df['long_diff'] = df['merch_long'] - df['long']\n",
    "df['lat_diff'] = df['merch_lat'] - df['lat']\n",
    "\n",
    "df['distance_km'] = (df['long_diff']**2 + df['lat_diff']**2)**(1/2)\n",
    "\n",
    "df = df.drop(['long_diff', 'lat_diff'], axis=1)"
   ]
  },
  {
   "cell_type": "code",
   "execution_count": 30,
   "id": "f6961a83-5e9f-4d89-90fe-7261b593d03e",
   "metadata": {
    "tags": []
   },
   "outputs": [],
   "source": [
    "df = df.drop(['lat', 'long', 'merch_lat', 'merch_long'], axis=1)"
   ]
  },
  {
   "cell_type": "code",
   "execution_count": null,
   "id": "daff853c-cc56-4b3a-9cd1-75d15816364a",
   "metadata": {
    "tags": []
   },
   "outputs": [],
   "source": []
  },
  {
   "cell_type": "code",
   "execution_count": 31,
   "id": "beb0203d-b0b1-4b44-90b9-acea75d18183",
   "metadata": {
    "tags": []
   },
   "outputs": [],
   "source": [
    "df['age'] = (pd.to_datetime(df['unix_time'], unit='s') - pd.to_datetime(df['dob'])) / pd.Timedelta(days=365.25)\n",
    "df['age'] = df['age'].round()"
   ]
  },
  {
   "cell_type": "code",
   "execution_count": 32,
   "id": "dc56e8d8-3358-4089-b24d-27185ca2acac",
   "metadata": {
    "tags": []
   },
   "outputs": [],
   "source": [
    "df = df.drop(['unix_time', 'dob'], axis=1)"
   ]
  },
  {
   "cell_type": "code",
   "execution_count": 33,
   "id": "9e366ba8-de2b-4531-bb28-08f381c93fdd",
   "metadata": {
    "tags": []
   },
   "outputs": [
    {
     "data": {
      "text/plain": [
       "Index(['cc_num', 'merchant', 'category', 'amt', 'gender', 'city', 'state',\n",
       "       'zip', 'city_pop', 'job', 'trans_num', 'is_fraud', 'month',\n",
       "       'day_of_week', 'is_weekend', 'hour', 'num_of_trans',\n",
       "       'num_of_unique_merchant', 'lat_std', 'long_std', 'country',\n",
       "       'mean_amt_per_category', 'distance_km', 'age'],\n",
       "      dtype='object')"
      ]
     },
     "execution_count": 33,
     "metadata": {},
     "output_type": "execute_result"
    }
   ],
   "source": [
    "df.columns"
   ]
  },
  {
   "cell_type": "code",
   "execution_count": 34,
   "id": "79629038-3d5d-4dd7-a67e-20065ea0e1bc",
   "metadata": {
    "tags": []
   },
   "outputs": [],
   "source": [
    "df['gender'] = df['gender'].map({'M': 0, 'F': 1})"
   ]
  },
  {
   "cell_type": "code",
   "execution_count": 35,
   "id": "8e960a7f-79bb-4e10-b675-bdd6565327d0",
   "metadata": {
    "tags": []
   },
   "outputs": [],
   "source": [
    "cols_mean_target = ['city', 'state', 'job']"
   ]
  },
  {
   "cell_type": "code",
   "execution_count": 36,
   "id": "d6767967-796b-45a0-8ee4-c014ee281e9e",
   "metadata": {
    "tags": []
   },
   "outputs": [],
   "source": [
    "for col in cols_mean_target:\n",
    "    if df[col].nunique() < 10:\n",
    "        one_hot = pd.get_dummies(df[col], prefix=col, drop_first=True)\n",
    "        df = pd.concat((df.drop(col, axis=1), one_hot), axis=1)\n",
    "        \n",
    "    else:\n",
    "        mean_target = df.groupby(col)['is_fraud'].mean()\n",
    "        df[col] = df[col].map(mean_target)"
   ]
  },
  {
   "cell_type": "code",
   "execution_count": 37,
   "id": "52a48fb0-85c8-4fe5-8300-e734cf7a6041",
   "metadata": {
    "tags": []
   },
   "outputs": [],
   "source": [
    "cat_cols = df.loc[:, df.dtypes==object].columns.tolist()"
   ]
  },
  {
   "cell_type": "code",
   "execution_count": 38,
   "id": "0aeacf2e-76e6-483d-9aab-8428b79847a3",
   "metadata": {
    "tags": []
   },
   "outputs": [
    {
     "data": {
      "text/plain": [
       "['merchant', 'category', 'trans_num', 'country']"
      ]
     },
     "execution_count": 38,
     "metadata": {},
     "output_type": "execute_result"
    }
   ],
   "source": [
    "cat_cols"
   ]
  },
  {
   "cell_type": "code",
   "execution_count": 39,
   "id": "e0f88e90-d829-4b9b-9ce9-d80b3f14f275",
   "metadata": {
    "tags": []
   },
   "outputs": [],
   "source": [
    "df = df.drop('trans_num', axis=1)"
   ]
  },
  {
   "cell_type": "code",
   "execution_count": 40,
   "id": "9aac64d6-38a2-4cfc-80eb-409848ae9e2e",
   "metadata": {
    "tags": []
   },
   "outputs": [],
   "source": [
    "df = df.drop('merchant', axis=1)"
   ]
  },
  {
   "cell_type": "code",
   "execution_count": 41,
   "id": "187ba0de-231e-46e4-afe9-d8fc69bbb54f",
   "metadata": {
    "tags": []
   },
   "outputs": [],
   "source": [
    "df['category'] = df['category'].map(df.groupby('category')['is_fraud'].mean())"
   ]
  },
  {
   "cell_type": "code",
   "execution_count": 44,
   "id": "a408d98a-cb42-42a9-a045-4a712503782f",
   "metadata": {
    "tags": []
   },
   "outputs": [],
   "source": [
    "# from sklearn.feature_selection import VarianceThreshold\n",
    "# var_selector = VarianceThreshold(threshold=0.01)\n",
    "# var_selector.fit(df[:, df.dtypes==])\n",
    "# print(var_selector.get_feature_names_out())"
   ]
  },
  {
   "cell_type": "code",
   "execution_count": null,
   "id": "4772b21e-dde0-4e68-8ae4-07cad84f0714",
   "metadata": {},
   "outputs": [],
   "source": []
  },
  {
   "cell_type": "code",
   "execution_count": 45,
   "id": "710efcdb-9a30-4f70-a441-6bebc9671d04",
   "metadata": {
    "tags": []
   },
   "outputs": [
    {
     "data": {
      "text/html": [
       "<div>\n",
       "<style scoped>\n",
       "    .dataframe tbody tr th:only-of-type {\n",
       "        vertical-align: middle;\n",
       "    }\n",
       "\n",
       "    .dataframe tbody tr th {\n",
       "        vertical-align: top;\n",
       "    }\n",
       "\n",
       "    .dataframe thead th {\n",
       "        text-align: right;\n",
       "    }\n",
       "</style>\n",
       "<table border=\"1\" class=\"dataframe\">\n",
       "  <thead>\n",
       "    <tr style=\"text-align: right;\">\n",
       "      <th></th>\n",
       "      <th>count</th>\n",
       "      <th>mean</th>\n",
       "      <th>std</th>\n",
       "      <th>min</th>\n",
       "      <th>25%</th>\n",
       "      <th>50%</th>\n",
       "      <th>75%</th>\n",
       "      <th>max</th>\n",
       "    </tr>\n",
       "  </thead>\n",
       "  <tbody>\n",
       "    <tr>\n",
       "      <th>cc_num</th>\n",
       "      <td>1852394.0</td>\n",
       "      <td>4.173860e+17</td>\n",
       "      <td>1.309115e+18</td>\n",
       "      <td>6.041621e+10</td>\n",
       "      <td>1.800429e+14</td>\n",
       "      <td>3.521417e+15</td>\n",
       "      <td>4.642255e+15</td>\n",
       "      <td>4.992346e+18</td>\n",
       "    </tr>\n",
       "    <tr>\n",
       "      <th>category</th>\n",
       "      <td>1852394.0</td>\n",
       "      <td>5.210015e-03</td>\n",
       "      <td>4.827460e-03</td>\n",
       "      <td>1.509551e-03</td>\n",
       "      <td>1.879711e-03</td>\n",
       "      <td>2.697370e-03</td>\n",
       "      <td>6.343752e-03</td>\n",
       "      <td>1.592713e-02</td>\n",
       "    </tr>\n",
       "    <tr>\n",
       "      <th>amt</th>\n",
       "      <td>1852394.0</td>\n",
       "      <td>7.006357e+01</td>\n",
       "      <td>1.592540e+02</td>\n",
       "      <td>1.000000e+00</td>\n",
       "      <td>9.640000e+00</td>\n",
       "      <td>4.745000e+01</td>\n",
       "      <td>8.310000e+01</td>\n",
       "      <td>2.894890e+04</td>\n",
       "    </tr>\n",
       "    <tr>\n",
       "      <th>gender</th>\n",
       "      <td>1852394.0</td>\n",
       "      <td>5.478041e-01</td>\n",
       "      <td>4.977097e-01</td>\n",
       "      <td>0.000000e+00</td>\n",
       "      <td>0.000000e+00</td>\n",
       "      <td>1.000000e+00</td>\n",
       "      <td>1.000000e+00</td>\n",
       "      <td>1.000000e+00</td>\n",
       "    </tr>\n",
       "    <tr>\n",
       "      <th>city</th>\n",
       "      <td>1852394.0</td>\n",
       "      <td>5.210015e-03</td>\n",
       "      <td>1.976274e-02</td>\n",
       "      <td>0.000000e+00</td>\n",
       "      <td>2.743484e-03</td>\n",
       "      <td>4.098361e-03</td>\n",
       "      <td>5.733006e-03</td>\n",
       "      <td>1.000000e+00</td>\n",
       "    </tr>\n",
       "    <tr>\n",
       "      <th>state</th>\n",
       "      <td>1852394.0</td>\n",
       "      <td>5.210015e-03</td>\n",
       "      <td>2.378605e-03</td>\n",
       "      <td>3.772577e-03</td>\n",
       "      <td>4.542347e-03</td>\n",
       "      <td>5.207998e-03</td>\n",
       "      <td>5.629393e-03</td>\n",
       "      <td>1.000000e+00</td>\n",
       "    </tr>\n",
       "    <tr>\n",
       "      <th>zip</th>\n",
       "      <td>1852394.0</td>\n",
       "      <td>4.881326e+04</td>\n",
       "      <td>2.688185e+04</td>\n",
       "      <td>1.257000e+03</td>\n",
       "      <td>2.623700e+04</td>\n",
       "      <td>4.817400e+04</td>\n",
       "      <td>7.204200e+04</td>\n",
       "      <td>9.992100e+04</td>\n",
       "    </tr>\n",
       "    <tr>\n",
       "      <th>city_pop</th>\n",
       "      <td>1852394.0</td>\n",
       "      <td>8.864367e+04</td>\n",
       "      <td>3.014876e+05</td>\n",
       "      <td>2.300000e+01</td>\n",
       "      <td>7.410000e+02</td>\n",
       "      <td>2.443000e+03</td>\n",
       "      <td>2.032800e+04</td>\n",
       "      <td>2.906700e+06</td>\n",
       "    </tr>\n",
       "    <tr>\n",
       "      <th>job</th>\n",
       "      <td>1852394.0</td>\n",
       "      <td>5.210015e-03</td>\n",
       "      <td>1.159766e-02</td>\n",
       "      <td>0.000000e+00</td>\n",
       "      <td>3.495441e-03</td>\n",
       "      <td>4.557885e-03</td>\n",
       "      <td>6.152794e-03</td>\n",
       "      <td>1.000000e+00</td>\n",
       "    </tr>\n",
       "    <tr>\n",
       "      <th>is_fraud</th>\n",
       "      <td>1852394.0</td>\n",
       "      <td>5.210015e-03</td>\n",
       "      <td>7.199217e-02</td>\n",
       "      <td>0.000000e+00</td>\n",
       "      <td>0.000000e+00</td>\n",
       "      <td>0.000000e+00</td>\n",
       "      <td>0.000000e+00</td>\n",
       "      <td>1.000000e+00</td>\n",
       "    </tr>\n",
       "    <tr>\n",
       "      <th>month</th>\n",
       "      <td>1852394.0</td>\n",
       "      <td>7.152067e+00</td>\n",
       "      <td>3.424954e+00</td>\n",
       "      <td>1.000000e+00</td>\n",
       "      <td>4.000000e+00</td>\n",
       "      <td>7.000000e+00</td>\n",
       "      <td>1.000000e+01</td>\n",
       "      <td>1.200000e+01</td>\n",
       "    </tr>\n",
       "    <tr>\n",
       "      <th>day_of_week</th>\n",
       "      <td>1852394.0</td>\n",
       "      <td>2.967456e+00</td>\n",
       "      <td>2.197983e+00</td>\n",
       "      <td>0.000000e+00</td>\n",
       "      <td>1.000000e+00</td>\n",
       "      <td>3.000000e+00</td>\n",
       "      <td>5.000000e+00</td>\n",
       "      <td>6.000000e+00</td>\n",
       "    </tr>\n",
       "    <tr>\n",
       "      <th>is_weekend</th>\n",
       "      <td>1852394.0</td>\n",
       "      <td>3.276322e-01</td>\n",
       "      <td>4.693501e-01</td>\n",
       "      <td>0.000000e+00</td>\n",
       "      <td>0.000000e+00</td>\n",
       "      <td>0.000000e+00</td>\n",
       "      <td>1.000000e+00</td>\n",
       "      <td>1.000000e+00</td>\n",
       "    </tr>\n",
       "    <tr>\n",
       "      <th>hour</th>\n",
       "      <td>1852394.0</td>\n",
       "      <td>1.280612e+01</td>\n",
       "      <td>6.815753e+00</td>\n",
       "      <td>0.000000e+00</td>\n",
       "      <td>7.000000e+00</td>\n",
       "      <td>1.400000e+01</td>\n",
       "      <td>1.900000e+01</td>\n",
       "      <td>2.300000e+01</td>\n",
       "    </tr>\n",
       "    <tr>\n",
       "      <th>num_of_trans</th>\n",
       "      <td>1852394.0</td>\n",
       "      <td>2.598802e+03</td>\n",
       "      <td>1.063520e+03</td>\n",
       "      <td>6.000000e+00</td>\n",
       "      <td>2.178000e+03</td>\n",
       "      <td>2.909000e+03</td>\n",
       "      <td>3.643000e+03</td>\n",
       "      <td>4.392000e+03</td>\n",
       "    </tr>\n",
       "    <tr>\n",
       "      <th>num_of_unique_merchant</th>\n",
       "      <td>1852394.0</td>\n",
       "      <td>6.242605e+02</td>\n",
       "      <td>7.056296e+01</td>\n",
       "      <td>5.000000e+00</td>\n",
       "      <td>6.130000e+02</td>\n",
       "      <td>6.460000e+02</td>\n",
       "      <td>6.740000e+02</td>\n",
       "      <td>6.910000e+02</td>\n",
       "    </tr>\n",
       "    <tr>\n",
       "      <th>lat_std</th>\n",
       "      <td>1852394.0</td>\n",
       "      <td>0.000000e+00</td>\n",
       "      <td>0.000000e+00</td>\n",
       "      <td>0.000000e+00</td>\n",
       "      <td>0.000000e+00</td>\n",
       "      <td>0.000000e+00</td>\n",
       "      <td>0.000000e+00</td>\n",
       "      <td>0.000000e+00</td>\n",
       "    </tr>\n",
       "    <tr>\n",
       "      <th>long_std</th>\n",
       "      <td>1852394.0</td>\n",
       "      <td>0.000000e+00</td>\n",
       "      <td>0.000000e+00</td>\n",
       "      <td>0.000000e+00</td>\n",
       "      <td>0.000000e+00</td>\n",
       "      <td>0.000000e+00</td>\n",
       "      <td>0.000000e+00</td>\n",
       "      <td>0.000000e+00</td>\n",
       "    </tr>\n",
       "    <tr>\n",
       "      <th>mean_amt_per_category</th>\n",
       "      <td>1852394.0</td>\n",
       "      <td>7.006357e+01</td>\n",
       "      <td>2.043505e+01</td>\n",
       "      <td>4.804790e+01</td>\n",
       "      <td>5.752785e+01</td>\n",
       "      <td>6.347727e+01</td>\n",
       "      <td>8.018137e+01</td>\n",
       "      <td>1.166401e+02</td>\n",
       "    </tr>\n",
       "    <tr>\n",
       "      <th>distance_km</th>\n",
       "      <td>1852394.0</td>\n",
       "      <td>7.593398e+01</td>\n",
       "      <td>2.896367e+01</td>\n",
       "      <td>2.317455e-02</td>\n",
       "      <td>5.531250e+01</td>\n",
       "      <td>7.814276e+01</td>\n",
       "      <td>9.819815e+01</td>\n",
       "      <td>1.406184e+02</td>\n",
       "    </tr>\n",
       "    <tr>\n",
       "      <th>age</th>\n",
       "      <td>1852394.0</td>\n",
       "      <td>3.926592e+01</td>\n",
       "      <td>1.741199e+01</td>\n",
       "      <td>7.000000e+00</td>\n",
       "      <td>2.600000e+01</td>\n",
       "      <td>3.700000e+01</td>\n",
       "      <td>5.000000e+01</td>\n",
       "      <td>8.900000e+01</td>\n",
       "    </tr>\n",
       "  </tbody>\n",
       "</table>\n",
       "</div>"
      ],
      "text/plain": [
       "                            count          mean           std           min  \\\n",
       "cc_num                  1852394.0  4.173860e+17  1.309115e+18  6.041621e+10   \n",
       "category                1852394.0  5.210015e-03  4.827460e-03  1.509551e-03   \n",
       "amt                     1852394.0  7.006357e+01  1.592540e+02  1.000000e+00   \n",
       "gender                  1852394.0  5.478041e-01  4.977097e-01  0.000000e+00   \n",
       "city                    1852394.0  5.210015e-03  1.976274e-02  0.000000e+00   \n",
       "state                   1852394.0  5.210015e-03  2.378605e-03  3.772577e-03   \n",
       "zip                     1852394.0  4.881326e+04  2.688185e+04  1.257000e+03   \n",
       "city_pop                1852394.0  8.864367e+04  3.014876e+05  2.300000e+01   \n",
       "job                     1852394.0  5.210015e-03  1.159766e-02  0.000000e+00   \n",
       "is_fraud                1852394.0  5.210015e-03  7.199217e-02  0.000000e+00   \n",
       "month                   1852394.0  7.152067e+00  3.424954e+00  1.000000e+00   \n",
       "day_of_week             1852394.0  2.967456e+00  2.197983e+00  0.000000e+00   \n",
       "is_weekend              1852394.0  3.276322e-01  4.693501e-01  0.000000e+00   \n",
       "hour                    1852394.0  1.280612e+01  6.815753e+00  0.000000e+00   \n",
       "num_of_trans            1852394.0  2.598802e+03  1.063520e+03  6.000000e+00   \n",
       "num_of_unique_merchant  1852394.0  6.242605e+02  7.056296e+01  5.000000e+00   \n",
       "lat_std                 1852394.0  0.000000e+00  0.000000e+00  0.000000e+00   \n",
       "long_std                1852394.0  0.000000e+00  0.000000e+00  0.000000e+00   \n",
       "mean_amt_per_category   1852394.0  7.006357e+01  2.043505e+01  4.804790e+01   \n",
       "distance_km             1852394.0  7.593398e+01  2.896367e+01  2.317455e-02   \n",
       "age                     1852394.0  3.926592e+01  1.741199e+01  7.000000e+00   \n",
       "\n",
       "                                 25%           50%           75%           max  \n",
       "cc_num                  1.800429e+14  3.521417e+15  4.642255e+15  4.992346e+18  \n",
       "category                1.879711e-03  2.697370e-03  6.343752e-03  1.592713e-02  \n",
       "amt                     9.640000e+00  4.745000e+01  8.310000e+01  2.894890e+04  \n",
       "gender                  0.000000e+00  1.000000e+00  1.000000e+00  1.000000e+00  \n",
       "city                    2.743484e-03  4.098361e-03  5.733006e-03  1.000000e+00  \n",
       "state                   4.542347e-03  5.207998e-03  5.629393e-03  1.000000e+00  \n",
       "zip                     2.623700e+04  4.817400e+04  7.204200e+04  9.992100e+04  \n",
       "city_pop                7.410000e+02  2.443000e+03  2.032800e+04  2.906700e+06  \n",
       "job                     3.495441e-03  4.557885e-03  6.152794e-03  1.000000e+00  \n",
       "is_fraud                0.000000e+00  0.000000e+00  0.000000e+00  1.000000e+00  \n",
       "month                   4.000000e+00  7.000000e+00  1.000000e+01  1.200000e+01  \n",
       "day_of_week             1.000000e+00  3.000000e+00  5.000000e+00  6.000000e+00  \n",
       "is_weekend              0.000000e+00  0.000000e+00  1.000000e+00  1.000000e+00  \n",
       "hour                    7.000000e+00  1.400000e+01  1.900000e+01  2.300000e+01  \n",
       "num_of_trans            2.178000e+03  2.909000e+03  3.643000e+03  4.392000e+03  \n",
       "num_of_unique_merchant  6.130000e+02  6.460000e+02  6.740000e+02  6.910000e+02  \n",
       "lat_std                 0.000000e+00  0.000000e+00  0.000000e+00  0.000000e+00  \n",
       "long_std                0.000000e+00  0.000000e+00  0.000000e+00  0.000000e+00  \n",
       "mean_amt_per_category   5.752785e+01  6.347727e+01  8.018137e+01  1.166401e+02  \n",
       "distance_km             5.531250e+01  7.814276e+01  9.819815e+01  1.406184e+02  \n",
       "age                     2.600000e+01  3.700000e+01  5.000000e+01  8.900000e+01  "
      ]
     },
     "execution_count": 45,
     "metadata": {},
     "output_type": "execute_result"
    }
   ],
   "source": [
    "df.describe(include=np.number).T"
   ]
  },
  {
   "cell_type": "code",
   "execution_count": 46,
   "id": "710a33cb-9ab1-465e-a515-c18c77920cd5",
   "metadata": {
    "tags": []
   },
   "outputs": [
    {
     "data": {
      "text/html": [
       "<div>\n",
       "<style scoped>\n",
       "    .dataframe tbody tr th:only-of-type {\n",
       "        vertical-align: middle;\n",
       "    }\n",
       "\n",
       "    .dataframe tbody tr th {\n",
       "        vertical-align: top;\n",
       "    }\n",
       "\n",
       "    .dataframe thead th {\n",
       "        text-align: right;\n",
       "    }\n",
       "</style>\n",
       "<table border=\"1\" class=\"dataframe\">\n",
       "  <thead>\n",
       "    <tr style=\"text-align: right;\">\n",
       "      <th></th>\n",
       "      <th>count</th>\n",
       "      <th>unique</th>\n",
       "      <th>top</th>\n",
       "      <th>freq</th>\n",
       "    </tr>\n",
       "  </thead>\n",
       "  <tbody>\n",
       "    <tr>\n",
       "      <th>country</th>\n",
       "      <td>1852394</td>\n",
       "      <td>1</td>\n",
       "      <td>United States</td>\n",
       "      <td>1852394</td>\n",
       "    </tr>\n",
       "  </tbody>\n",
       "</table>\n",
       "</div>"
      ],
      "text/plain": [
       "           count unique            top     freq\n",
       "country  1852394      1  United States  1852394"
      ]
     },
     "execution_count": 46,
     "metadata": {},
     "output_type": "execute_result"
    }
   ],
   "source": [
    "df.describe(include=object).T"
   ]
  },
  {
   "cell_type": "code",
   "execution_count": 47,
   "id": "f51345e7-1b10-4974-81a5-78087a44d5f6",
   "metadata": {
    "tags": []
   },
   "outputs": [
    {
     "data": {
      "text/plain": [
       "cc_num                    0\n",
       "category                  0\n",
       "amt                       0\n",
       "gender                    0\n",
       "city                      0\n",
       "state                     0\n",
       "zip                       0\n",
       "city_pop                  0\n",
       "job                       0\n",
       "is_fraud                  0\n",
       "month                     0\n",
       "day_of_week               0\n",
       "is_weekend                0\n",
       "hour                      0\n",
       "num_of_trans              0\n",
       "num_of_unique_merchant    0\n",
       "lat_std                   0\n",
       "long_std                  0\n",
       "country                   0\n",
       "mean_amt_per_category     0\n",
       "distance_km               0\n",
       "age                       0\n",
       "dtype: int64"
      ]
     },
     "execution_count": 47,
     "metadata": {},
     "output_type": "execute_result"
    }
   ],
   "source": [
    "df.isna().sum()"
   ]
  },
  {
   "cell_type": "code",
   "execution_count": 48,
   "id": "d738ba82-2049-4405-b93d-d0c02fdd6210",
   "metadata": {
    "tags": []
   },
   "outputs": [
    {
     "data": {
      "text/html": [
       "<div>\n",
       "<style scoped>\n",
       "    .dataframe tbody tr th:only-of-type {\n",
       "        vertical-align: middle;\n",
       "    }\n",
       "\n",
       "    .dataframe tbody tr th {\n",
       "        vertical-align: top;\n",
       "    }\n",
       "\n",
       "    .dataframe thead th {\n",
       "        text-align: right;\n",
       "    }\n",
       "</style>\n",
       "<table border=\"1\" class=\"dataframe\">\n",
       "  <thead>\n",
       "    <tr style=\"text-align: right;\">\n",
       "      <th></th>\n",
       "      <th>cc_num</th>\n",
       "      <th>category</th>\n",
       "      <th>amt</th>\n",
       "      <th>gender</th>\n",
       "      <th>city</th>\n",
       "      <th>state</th>\n",
       "      <th>zip</th>\n",
       "      <th>city_pop</th>\n",
       "      <th>job</th>\n",
       "      <th>is_fraud</th>\n",
       "      <th>...</th>\n",
       "      <th>is_weekend</th>\n",
       "      <th>hour</th>\n",
       "      <th>num_of_trans</th>\n",
       "      <th>num_of_unique_merchant</th>\n",
       "      <th>lat_std</th>\n",
       "      <th>long_std</th>\n",
       "      <th>country</th>\n",
       "      <th>mean_amt_per_category</th>\n",
       "      <th>distance_km</th>\n",
       "      <th>age</th>\n",
       "    </tr>\n",
       "  </thead>\n",
       "  <tbody>\n",
       "    <tr>\n",
       "      <th>0</th>\n",
       "      <td>2703186189652095</td>\n",
       "      <td>0.013039</td>\n",
       "      <td>4.97</td>\n",
       "      <td>1</td>\n",
       "      <td>0.003758</td>\n",
       "      <td>0.004521</td>\n",
       "      <td>28654</td>\n",
       "      <td>3495</td>\n",
       "      <td>0.003320</td>\n",
       "      <td>0</td>\n",
       "      <td>...</td>\n",
       "      <td>0</td>\n",
       "      <td>0</td>\n",
       "      <td>2927</td>\n",
       "      <td>660</td>\n",
       "      <td>0.0</td>\n",
       "      <td>0.0</td>\n",
       "      <td>United States</td>\n",
       "      <td>80.181370</td>\n",
       "      <td>75.267255</td>\n",
       "      <td>24.0</td>\n",
       "    </tr>\n",
       "    <tr>\n",
       "      <th>1</th>\n",
       "      <td>630423337322</td>\n",
       "      <td>0.012645</td>\n",
       "      <td>107.23</td>\n",
       "      <td>1</td>\n",
       "      <td>0.002160</td>\n",
       "      <td>0.004660</td>\n",
       "      <td>99160</td>\n",
       "      <td>149</td>\n",
       "      <td>0.002472</td>\n",
       "      <td>0</td>\n",
       "      <td>...</td>\n",
       "      <td>0</td>\n",
       "      <td>0</td>\n",
       "      <td>4362</td>\n",
       "      <td>681</td>\n",
       "      <td>0.0</td>\n",
       "      <td>0.0</td>\n",
       "      <td>United States</td>\n",
       "      <td>116.640146</td>\n",
       "      <td>30.265999</td>\n",
       "      <td>34.0</td>\n",
       "    </tr>\n",
       "    <tr>\n",
       "      <th>2</th>\n",
       "      <td>38859492057661</td>\n",
       "      <td>0.002177</td>\n",
       "      <td>220.11</td>\n",
       "      <td>0</td>\n",
       "      <td>0.010884</td>\n",
       "      <td>0.004107</td>\n",
       "      <td>83252</td>\n",
       "      <td>4154</td>\n",
       "      <td>0.021534</td>\n",
       "      <td>0</td>\n",
       "      <td>...</td>\n",
       "      <td>0</td>\n",
       "      <td>0</td>\n",
       "      <td>735</td>\n",
       "      <td>431</td>\n",
       "      <td>0.0</td>\n",
       "      <td>0.0</td>\n",
       "      <td>United States</td>\n",
       "      <td>64.142968</td>\n",
       "      <td>108.365491</td>\n",
       "      <td>50.0</td>\n",
       "    </tr>\n",
       "    <tr>\n",
       "      <th>3</th>\n",
       "      <td>3534093764340240</td>\n",
       "      <td>0.004106</td>\n",
       "      <td>45.00</td>\n",
       "      <td>0</td>\n",
       "      <td>0.020188</td>\n",
       "      <td>0.004106</td>\n",
       "      <td>59632</td>\n",
       "      <td>1939</td>\n",
       "      <td>0.005461</td>\n",
       "      <td>0</td>\n",
       "      <td>...</td>\n",
       "      <td>0</td>\n",
       "      <td>0</td>\n",
       "      <td>743</td>\n",
       "      <td>423</td>\n",
       "      <td>0.0</td>\n",
       "      <td>0.0</td>\n",
       "      <td>United States</td>\n",
       "      <td>63.477271</td>\n",
       "      <td>97.400118</td>\n",
       "      <td>45.0</td>\n",
       "    </tr>\n",
       "    <tr>\n",
       "      <th>4</th>\n",
       "      <td>375534208663984</td>\n",
       "      <td>0.002819</td>\n",
       "      <td>41.96</td>\n",
       "      <td>0</td>\n",
       "      <td>0.004449</td>\n",
       "      <td>0.006538</td>\n",
       "      <td>24433</td>\n",
       "      <td>99</td>\n",
       "      <td>0.004449</td>\n",
       "      <td>0</td>\n",
       "      <td>...</td>\n",
       "      <td>0</td>\n",
       "      <td>0</td>\n",
       "      <td>2922</td>\n",
       "      <td>652</td>\n",
       "      <td>0.0</td>\n",
       "      <td>0.0</td>\n",
       "      <td>United States</td>\n",
       "      <td>62.676479</td>\n",
       "      <td>76.870522</td>\n",
       "      <td>26.0</td>\n",
       "    </tr>\n",
       "  </tbody>\n",
       "</table>\n",
       "<p>5 rows × 22 columns</p>\n",
       "</div>"
      ],
      "text/plain": [
       "             cc_num  category     amt  gender      city     state    zip  \\\n",
       "0  2703186189652095  0.013039    4.97       1  0.003758  0.004521  28654   \n",
       "1      630423337322  0.012645  107.23       1  0.002160  0.004660  99160   \n",
       "2    38859492057661  0.002177  220.11       0  0.010884  0.004107  83252   \n",
       "3  3534093764340240  0.004106   45.00       0  0.020188  0.004106  59632   \n",
       "4   375534208663984  0.002819   41.96       0  0.004449  0.006538  24433   \n",
       "\n",
       "   city_pop       job  is_fraud  ...  is_weekend  hour  num_of_trans  \\\n",
       "0      3495  0.003320         0  ...           0     0          2927   \n",
       "1       149  0.002472         0  ...           0     0          4362   \n",
       "2      4154  0.021534         0  ...           0     0           735   \n",
       "3      1939  0.005461         0  ...           0     0           743   \n",
       "4        99  0.004449         0  ...           0     0          2922   \n",
       "\n",
       "   num_of_unique_merchant  lat_std  long_std        country  \\\n",
       "0                     660      0.0       0.0  United States   \n",
       "1                     681      0.0       0.0  United States   \n",
       "2                     431      0.0       0.0  United States   \n",
       "3                     423      0.0       0.0  United States   \n",
       "4                     652      0.0       0.0  United States   \n",
       "\n",
       "   mean_amt_per_category distance_km   age  \n",
       "0              80.181370   75.267255  24.0  \n",
       "1             116.640146   30.265999  34.0  \n",
       "2              64.142968  108.365491  50.0  \n",
       "3              63.477271   97.400118  45.0  \n",
       "4              62.676479   76.870522  26.0  \n",
       "\n",
       "[5 rows x 22 columns]"
      ]
     },
     "execution_count": 48,
     "metadata": {},
     "output_type": "execute_result"
    }
   ],
   "source": [
    "df.head()"
   ]
  },
  {
   "cell_type": "code",
   "execution_count": null,
   "id": "9bc2d49f-01d2-416c-afca-807bde38d4d5",
   "metadata": {
    "tags": []
   },
   "outputs": [],
   "source": []
  },
  {
   "cell_type": "code",
   "execution_count": null,
   "id": "a7894337-c157-4477-b9c4-7af618c003ea",
   "metadata": {
    "tags": []
   },
   "outputs": [],
   "source": []
  },
  {
   "cell_type": "code",
   "execution_count": 49,
   "id": "4a2a542e-9331-4c80-9242-0305eda2b6ad",
   "metadata": {
    "tags": []
   },
   "outputs": [
    {
     "data": {
      "text/html": [
       "<div>\n",
       "<style scoped>\n",
       "    .dataframe tbody tr th:only-of-type {\n",
       "        vertical-align: middle;\n",
       "    }\n",
       "\n",
       "    .dataframe tbody tr th {\n",
       "        vertical-align: top;\n",
       "    }\n",
       "\n",
       "    .dataframe thead th {\n",
       "        text-align: right;\n",
       "    }\n",
       "</style>\n",
       "<table border=\"1\" class=\"dataframe\">\n",
       "  <thead>\n",
       "    <tr style=\"text-align: right;\">\n",
       "      <th></th>\n",
       "      <th>cc_num</th>\n",
       "      <th>category</th>\n",
       "      <th>amt</th>\n",
       "      <th>gender</th>\n",
       "      <th>city</th>\n",
       "      <th>state</th>\n",
       "      <th>zip</th>\n",
       "      <th>city_pop</th>\n",
       "      <th>job</th>\n",
       "      <th>is_fraud</th>\n",
       "      <th>...</th>\n",
       "      <th>is_weekend</th>\n",
       "      <th>hour</th>\n",
       "      <th>num_of_trans</th>\n",
       "      <th>num_of_unique_merchant</th>\n",
       "      <th>lat_std</th>\n",
       "      <th>long_std</th>\n",
       "      <th>country</th>\n",
       "      <th>mean_amt_per_category</th>\n",
       "      <th>distance_km</th>\n",
       "      <th>age</th>\n",
       "    </tr>\n",
       "  </thead>\n",
       "  <tbody>\n",
       "    <tr>\n",
       "      <th>0</th>\n",
       "      <td>2703186189652095</td>\n",
       "      <td>0.013039</td>\n",
       "      <td>4.97</td>\n",
       "      <td>1</td>\n",
       "      <td>0.003758</td>\n",
       "      <td>0.004521</td>\n",
       "      <td>28654</td>\n",
       "      <td>3495</td>\n",
       "      <td>0.003320</td>\n",
       "      <td>0</td>\n",
       "      <td>...</td>\n",
       "      <td>0</td>\n",
       "      <td>0</td>\n",
       "      <td>2927</td>\n",
       "      <td>660</td>\n",
       "      <td>0.0</td>\n",
       "      <td>0.0</td>\n",
       "      <td>United States</td>\n",
       "      <td>80.181370</td>\n",
       "      <td>75.267255</td>\n",
       "      <td>24.0</td>\n",
       "    </tr>\n",
       "    <tr>\n",
       "      <th>1</th>\n",
       "      <td>630423337322</td>\n",
       "      <td>0.012645</td>\n",
       "      <td>107.23</td>\n",
       "      <td>1</td>\n",
       "      <td>0.002160</td>\n",
       "      <td>0.004660</td>\n",
       "      <td>99160</td>\n",
       "      <td>149</td>\n",
       "      <td>0.002472</td>\n",
       "      <td>0</td>\n",
       "      <td>...</td>\n",
       "      <td>0</td>\n",
       "      <td>0</td>\n",
       "      <td>4362</td>\n",
       "      <td>681</td>\n",
       "      <td>0.0</td>\n",
       "      <td>0.0</td>\n",
       "      <td>United States</td>\n",
       "      <td>116.640146</td>\n",
       "      <td>30.265999</td>\n",
       "      <td>34.0</td>\n",
       "    </tr>\n",
       "    <tr>\n",
       "      <th>2</th>\n",
       "      <td>38859492057661</td>\n",
       "      <td>0.002177</td>\n",
       "      <td>220.11</td>\n",
       "      <td>0</td>\n",
       "      <td>0.010884</td>\n",
       "      <td>0.004107</td>\n",
       "      <td>83252</td>\n",
       "      <td>4154</td>\n",
       "      <td>0.021534</td>\n",
       "      <td>0</td>\n",
       "      <td>...</td>\n",
       "      <td>0</td>\n",
       "      <td>0</td>\n",
       "      <td>735</td>\n",
       "      <td>431</td>\n",
       "      <td>0.0</td>\n",
       "      <td>0.0</td>\n",
       "      <td>United States</td>\n",
       "      <td>64.142968</td>\n",
       "      <td>108.365491</td>\n",
       "      <td>50.0</td>\n",
       "    </tr>\n",
       "    <tr>\n",
       "      <th>3</th>\n",
       "      <td>3534093764340240</td>\n",
       "      <td>0.004106</td>\n",
       "      <td>45.00</td>\n",
       "      <td>0</td>\n",
       "      <td>0.020188</td>\n",
       "      <td>0.004106</td>\n",
       "      <td>59632</td>\n",
       "      <td>1939</td>\n",
       "      <td>0.005461</td>\n",
       "      <td>0</td>\n",
       "      <td>...</td>\n",
       "      <td>0</td>\n",
       "      <td>0</td>\n",
       "      <td>743</td>\n",
       "      <td>423</td>\n",
       "      <td>0.0</td>\n",
       "      <td>0.0</td>\n",
       "      <td>United States</td>\n",
       "      <td>63.477271</td>\n",
       "      <td>97.400118</td>\n",
       "      <td>45.0</td>\n",
       "    </tr>\n",
       "    <tr>\n",
       "      <th>4</th>\n",
       "      <td>375534208663984</td>\n",
       "      <td>0.002819</td>\n",
       "      <td>41.96</td>\n",
       "      <td>0</td>\n",
       "      <td>0.004449</td>\n",
       "      <td>0.006538</td>\n",
       "      <td>24433</td>\n",
       "      <td>99</td>\n",
       "      <td>0.004449</td>\n",
       "      <td>0</td>\n",
       "      <td>...</td>\n",
       "      <td>0</td>\n",
       "      <td>0</td>\n",
       "      <td>2922</td>\n",
       "      <td>652</td>\n",
       "      <td>0.0</td>\n",
       "      <td>0.0</td>\n",
       "      <td>United States</td>\n",
       "      <td>62.676479</td>\n",
       "      <td>76.870522</td>\n",
       "      <td>26.0</td>\n",
       "    </tr>\n",
       "  </tbody>\n",
       "</table>\n",
       "<p>5 rows × 22 columns</p>\n",
       "</div>"
      ],
      "text/plain": [
       "             cc_num  category     amt  gender      city     state    zip  \\\n",
       "0  2703186189652095  0.013039    4.97       1  0.003758  0.004521  28654   \n",
       "1      630423337322  0.012645  107.23       1  0.002160  0.004660  99160   \n",
       "2    38859492057661  0.002177  220.11       0  0.010884  0.004107  83252   \n",
       "3  3534093764340240  0.004106   45.00       0  0.020188  0.004106  59632   \n",
       "4   375534208663984  0.002819   41.96       0  0.004449  0.006538  24433   \n",
       "\n",
       "   city_pop       job  is_fraud  ...  is_weekend  hour  num_of_trans  \\\n",
       "0      3495  0.003320         0  ...           0     0          2927   \n",
       "1       149  0.002472         0  ...           0     0          4362   \n",
       "2      4154  0.021534         0  ...           0     0           735   \n",
       "3      1939  0.005461         0  ...           0     0           743   \n",
       "4        99  0.004449         0  ...           0     0          2922   \n",
       "\n",
       "   num_of_unique_merchant  lat_std  long_std        country  \\\n",
       "0                     660      0.0       0.0  United States   \n",
       "1                     681      0.0       0.0  United States   \n",
       "2                     431      0.0       0.0  United States   \n",
       "3                     423      0.0       0.0  United States   \n",
       "4                     652      0.0       0.0  United States   \n",
       "\n",
       "   mean_amt_per_category distance_km   age  \n",
       "0              80.181370   75.267255  24.0  \n",
       "1             116.640146   30.265999  34.0  \n",
       "2              64.142968  108.365491  50.0  \n",
       "3              63.477271   97.400118  45.0  \n",
       "4              62.676479   76.870522  26.0  \n",
       "\n",
       "[5 rows x 22 columns]"
      ]
     },
     "execution_count": 49,
     "metadata": {},
     "output_type": "execute_result"
    }
   ],
   "source": [
    "df.head()"
   ]
  },
  {
   "cell_type": "code",
   "execution_count": null,
   "id": "47edf6d2-0653-4a5e-96c6-5ff5a6607db2",
   "metadata": {
    "tags": []
   },
   "outputs": [],
   "source": []
  },
  {
   "cell_type": "code",
   "execution_count": 50,
   "id": "61be15a3-38f3-4215-a788-d6aa8f63b6a1",
   "metadata": {
    "tags": []
   },
   "outputs": [
    {
     "ename": "KeyError",
     "evalue": "\"['lat', 'long', 'merch_lat', 'merch_long'] not in index\"",
     "output_type": "error",
     "traceback": [
      "\u001b[0;31m---------------------------------------------------------------------------\u001b[0m",
      "\u001b[0;31mKeyError\u001b[0m                                  Traceback (most recent call last)",
      "Cell \u001b[0;32mIn[50], line 1\u001b[0m\n\u001b[0;32m----> 1\u001b[0m sns\u001b[38;5;241m.\u001b[39mheatmap(df[num_cols]\u001b[38;5;241m.\u001b[39mcorr(), annot\u001b[38;5;241m=\u001b[39m\u001b[38;5;28;01mTrue\u001b[39;00m, cmap\u001b[38;5;241m=\u001b[39m\u001b[38;5;124m'\u001b[39m\u001b[38;5;124minferno\u001b[39m\u001b[38;5;124m'\u001b[39m)\n",
      "File \u001b[0;32m~/anaconda3/lib/python3.11/site-packages/pandas/core/frame.py:4096\u001b[0m, in \u001b[0;36mDataFrame.__getitem__\u001b[0;34m(self, key)\u001b[0m\n\u001b[1;32m   4094\u001b[0m     \u001b[38;5;28;01mif\u001b[39;00m is_iterator(key):\n\u001b[1;32m   4095\u001b[0m         key \u001b[38;5;241m=\u001b[39m \u001b[38;5;28mlist\u001b[39m(key)\n\u001b[0;32m-> 4096\u001b[0m     indexer \u001b[38;5;241m=\u001b[39m \u001b[38;5;28mself\u001b[39m\u001b[38;5;241m.\u001b[39mcolumns\u001b[38;5;241m.\u001b[39m_get_indexer_strict(key, \u001b[38;5;124m\"\u001b[39m\u001b[38;5;124mcolumns\u001b[39m\u001b[38;5;124m\"\u001b[39m)[\u001b[38;5;241m1\u001b[39m]\n\u001b[1;32m   4098\u001b[0m \u001b[38;5;66;03m# take() does not accept boolean indexers\u001b[39;00m\n\u001b[1;32m   4099\u001b[0m \u001b[38;5;28;01mif\u001b[39;00m \u001b[38;5;28mgetattr\u001b[39m(indexer, \u001b[38;5;124m\"\u001b[39m\u001b[38;5;124mdtype\u001b[39m\u001b[38;5;124m\"\u001b[39m, \u001b[38;5;28;01mNone\u001b[39;00m) \u001b[38;5;241m==\u001b[39m \u001b[38;5;28mbool\u001b[39m:\n",
      "File \u001b[0;32m~/anaconda3/lib/python3.11/site-packages/pandas/core/indexes/base.py:6200\u001b[0m, in \u001b[0;36mIndex._get_indexer_strict\u001b[0;34m(self, key, axis_name)\u001b[0m\n\u001b[1;32m   6197\u001b[0m \u001b[38;5;28;01melse\u001b[39;00m:\n\u001b[1;32m   6198\u001b[0m     keyarr, indexer, new_indexer \u001b[38;5;241m=\u001b[39m \u001b[38;5;28mself\u001b[39m\u001b[38;5;241m.\u001b[39m_reindex_non_unique(keyarr)\n\u001b[0;32m-> 6200\u001b[0m \u001b[38;5;28mself\u001b[39m\u001b[38;5;241m.\u001b[39m_raise_if_missing(keyarr, indexer, axis_name)\n\u001b[1;32m   6202\u001b[0m keyarr \u001b[38;5;241m=\u001b[39m \u001b[38;5;28mself\u001b[39m\u001b[38;5;241m.\u001b[39mtake(indexer)\n\u001b[1;32m   6203\u001b[0m \u001b[38;5;28;01mif\u001b[39;00m \u001b[38;5;28misinstance\u001b[39m(key, Index):\n\u001b[1;32m   6204\u001b[0m     \u001b[38;5;66;03m# GH 42790 - Preserve name from an Index\u001b[39;00m\n",
      "File \u001b[0;32m~/anaconda3/lib/python3.11/site-packages/pandas/core/indexes/base.py:6252\u001b[0m, in \u001b[0;36mIndex._raise_if_missing\u001b[0;34m(self, key, indexer, axis_name)\u001b[0m\n\u001b[1;32m   6249\u001b[0m     \u001b[38;5;28;01mraise\u001b[39;00m \u001b[38;5;167;01mKeyError\u001b[39;00m(\u001b[38;5;124mf\u001b[39m\u001b[38;5;124m\"\u001b[39m\u001b[38;5;124mNone of [\u001b[39m\u001b[38;5;132;01m{\u001b[39;00mkey\u001b[38;5;132;01m}\u001b[39;00m\u001b[38;5;124m] are in the [\u001b[39m\u001b[38;5;132;01m{\u001b[39;00maxis_name\u001b[38;5;132;01m}\u001b[39;00m\u001b[38;5;124m]\u001b[39m\u001b[38;5;124m\"\u001b[39m)\n\u001b[1;32m   6251\u001b[0m not_found \u001b[38;5;241m=\u001b[39m \u001b[38;5;28mlist\u001b[39m(ensure_index(key)[missing_mask\u001b[38;5;241m.\u001b[39mnonzero()[\u001b[38;5;241m0\u001b[39m]]\u001b[38;5;241m.\u001b[39munique())\n\u001b[0;32m-> 6252\u001b[0m \u001b[38;5;28;01mraise\u001b[39;00m \u001b[38;5;167;01mKeyError\u001b[39;00m(\u001b[38;5;124mf\u001b[39m\u001b[38;5;124m\"\u001b[39m\u001b[38;5;132;01m{\u001b[39;00mnot_found\u001b[38;5;132;01m}\u001b[39;00m\u001b[38;5;124m not in index\u001b[39m\u001b[38;5;124m\"\u001b[39m)\n",
      "\u001b[0;31mKeyError\u001b[0m: \"['lat', 'long', 'merch_lat', 'merch_long'] not in index\""
     ]
    }
   ],
   "source": [
    "sns.heatmap(df[num_cols].corr(), annot=True, cmap='inferno')"
   ]
  },
  {
   "cell_type": "code",
   "execution_count": null,
   "id": "16ab3ea6-6c93-4b30-9ae3-94c2f85df743",
   "metadata": {
    "tags": []
   },
   "outputs": [],
   "source": [
    "df['gender'] = df['gender'].map({'M': 0, 'F': 1})"
   ]
  },
  {
   "cell_type": "code",
   "execution_count": null,
   "id": "b6e269dc-5d2e-4b9c-8b07-b409e2163b04",
   "metadata": {
    "tags": []
   },
   "outputs": [],
   "source": [
    "df['time'] = pd.to_datetime(df['unix_time'], unit='s')"
   ]
  },
  {
   "cell_type": "code",
   "execution_count": 51,
   "id": "c8e50f82-0ac5-404b-8055-41adbf3cba9c",
   "metadata": {
    "tags": []
   },
   "outputs": [
    {
     "ename": "KeyError",
     "evalue": "\"['last', 'first', 'unix_time', 'trans_num', 'lat', 'long'] not found in axis\"",
     "output_type": "error",
     "traceback": [
      "\u001b[0;31m---------------------------------------------------------------------------\u001b[0m",
      "\u001b[0;31mKeyError\u001b[0m                                  Traceback (most recent call last)",
      "Cell \u001b[0;32mIn[51], line 1\u001b[0m\n\u001b[0;32m----> 1\u001b[0m df \u001b[38;5;241m=\u001b[39m df\u001b[38;5;241m.\u001b[39mdrop([\u001b[38;5;124m'\u001b[39m\u001b[38;5;124mlast\u001b[39m\u001b[38;5;124m'\u001b[39m, \u001b[38;5;124m'\u001b[39m\u001b[38;5;124mfirst\u001b[39m\u001b[38;5;124m'\u001b[39m, \u001b[38;5;124m'\u001b[39m\u001b[38;5;124munix_time\u001b[39m\u001b[38;5;124m'\u001b[39m, \u001b[38;5;124m'\u001b[39m\u001b[38;5;124mtrans_num\u001b[39m\u001b[38;5;124m'\u001b[39m, \u001b[38;5;124m'\u001b[39m\u001b[38;5;124mlat\u001b[39m\u001b[38;5;124m'\u001b[39m, \u001b[38;5;124m'\u001b[39m\u001b[38;5;124mlong\u001b[39m\u001b[38;5;124m'\u001b[39m, \u001b[38;5;124m'\u001b[39m\u001b[38;5;124mcc_num\u001b[39m\u001b[38;5;124m'\u001b[39m], axis\u001b[38;5;241m=\u001b[39m\u001b[38;5;241m1\u001b[39m)\n",
      "File \u001b[0;32m~/anaconda3/lib/python3.11/site-packages/pandas/core/frame.py:5568\u001b[0m, in \u001b[0;36mDataFrame.drop\u001b[0;34m(self, labels, axis, index, columns, level, inplace, errors)\u001b[0m\n\u001b[1;32m   5420\u001b[0m \u001b[38;5;28;01mdef\u001b[39;00m \u001b[38;5;21mdrop\u001b[39m(\n\u001b[1;32m   5421\u001b[0m     \u001b[38;5;28mself\u001b[39m,\n\u001b[1;32m   5422\u001b[0m     labels: IndexLabel \u001b[38;5;241m|\u001b[39m \u001b[38;5;28;01mNone\u001b[39;00m \u001b[38;5;241m=\u001b[39m \u001b[38;5;28;01mNone\u001b[39;00m,\n\u001b[0;32m   (...)\u001b[0m\n\u001b[1;32m   5429\u001b[0m     errors: IgnoreRaise \u001b[38;5;241m=\u001b[39m \u001b[38;5;124m\"\u001b[39m\u001b[38;5;124mraise\u001b[39m\u001b[38;5;124m\"\u001b[39m,\n\u001b[1;32m   5430\u001b[0m ) \u001b[38;5;241m-\u001b[39m\u001b[38;5;241m>\u001b[39m DataFrame \u001b[38;5;241m|\u001b[39m \u001b[38;5;28;01mNone\u001b[39;00m:\n\u001b[1;32m   5431\u001b[0m \u001b[38;5;250m    \u001b[39m\u001b[38;5;124;03m\"\"\"\u001b[39;00m\n\u001b[1;32m   5432\u001b[0m \u001b[38;5;124;03m    Drop specified labels from rows or columns.\u001b[39;00m\n\u001b[1;32m   5433\u001b[0m \n\u001b[0;32m   (...)\u001b[0m\n\u001b[1;32m   5566\u001b[0m \u001b[38;5;124;03m            weight  1.0     0.8\u001b[39;00m\n\u001b[1;32m   5567\u001b[0m \u001b[38;5;124;03m    \"\"\"\u001b[39;00m\n\u001b[0;32m-> 5568\u001b[0m     \u001b[38;5;28;01mreturn\u001b[39;00m \u001b[38;5;28msuper\u001b[39m()\u001b[38;5;241m.\u001b[39mdrop(\n\u001b[1;32m   5569\u001b[0m         labels\u001b[38;5;241m=\u001b[39mlabels,\n\u001b[1;32m   5570\u001b[0m         axis\u001b[38;5;241m=\u001b[39maxis,\n\u001b[1;32m   5571\u001b[0m         index\u001b[38;5;241m=\u001b[39mindex,\n\u001b[1;32m   5572\u001b[0m         columns\u001b[38;5;241m=\u001b[39mcolumns,\n\u001b[1;32m   5573\u001b[0m         level\u001b[38;5;241m=\u001b[39mlevel,\n\u001b[1;32m   5574\u001b[0m         inplace\u001b[38;5;241m=\u001b[39minplace,\n\u001b[1;32m   5575\u001b[0m         errors\u001b[38;5;241m=\u001b[39merrors,\n\u001b[1;32m   5576\u001b[0m     )\n",
      "File \u001b[0;32m~/anaconda3/lib/python3.11/site-packages/pandas/core/generic.py:4785\u001b[0m, in \u001b[0;36mNDFrame.drop\u001b[0;34m(self, labels, axis, index, columns, level, inplace, errors)\u001b[0m\n\u001b[1;32m   4783\u001b[0m \u001b[38;5;28;01mfor\u001b[39;00m axis, labels \u001b[38;5;129;01min\u001b[39;00m axes\u001b[38;5;241m.\u001b[39mitems():\n\u001b[1;32m   4784\u001b[0m     \u001b[38;5;28;01mif\u001b[39;00m labels \u001b[38;5;129;01mis\u001b[39;00m \u001b[38;5;129;01mnot\u001b[39;00m \u001b[38;5;28;01mNone\u001b[39;00m:\n\u001b[0;32m-> 4785\u001b[0m         obj \u001b[38;5;241m=\u001b[39m obj\u001b[38;5;241m.\u001b[39m_drop_axis(labels, axis, level\u001b[38;5;241m=\u001b[39mlevel, errors\u001b[38;5;241m=\u001b[39merrors)\n\u001b[1;32m   4787\u001b[0m \u001b[38;5;28;01mif\u001b[39;00m inplace:\n\u001b[1;32m   4788\u001b[0m     \u001b[38;5;28mself\u001b[39m\u001b[38;5;241m.\u001b[39m_update_inplace(obj)\n",
      "File \u001b[0;32m~/anaconda3/lib/python3.11/site-packages/pandas/core/generic.py:4827\u001b[0m, in \u001b[0;36mNDFrame._drop_axis\u001b[0;34m(self, labels, axis, level, errors, only_slice)\u001b[0m\n\u001b[1;32m   4825\u001b[0m         new_axis \u001b[38;5;241m=\u001b[39m axis\u001b[38;5;241m.\u001b[39mdrop(labels, level\u001b[38;5;241m=\u001b[39mlevel, errors\u001b[38;5;241m=\u001b[39merrors)\n\u001b[1;32m   4826\u001b[0m     \u001b[38;5;28;01melse\u001b[39;00m:\n\u001b[0;32m-> 4827\u001b[0m         new_axis \u001b[38;5;241m=\u001b[39m axis\u001b[38;5;241m.\u001b[39mdrop(labels, errors\u001b[38;5;241m=\u001b[39merrors)\n\u001b[1;32m   4828\u001b[0m     indexer \u001b[38;5;241m=\u001b[39m axis\u001b[38;5;241m.\u001b[39mget_indexer(new_axis)\n\u001b[1;32m   4830\u001b[0m \u001b[38;5;66;03m# Case for non-unique axis\u001b[39;00m\n\u001b[1;32m   4831\u001b[0m \u001b[38;5;28;01melse\u001b[39;00m:\n",
      "File \u001b[0;32m~/anaconda3/lib/python3.11/site-packages/pandas/core/indexes/base.py:7070\u001b[0m, in \u001b[0;36mIndex.drop\u001b[0;34m(self, labels, errors)\u001b[0m\n\u001b[1;32m   7068\u001b[0m \u001b[38;5;28;01mif\u001b[39;00m mask\u001b[38;5;241m.\u001b[39many():\n\u001b[1;32m   7069\u001b[0m     \u001b[38;5;28;01mif\u001b[39;00m errors \u001b[38;5;241m!=\u001b[39m \u001b[38;5;124m\"\u001b[39m\u001b[38;5;124mignore\u001b[39m\u001b[38;5;124m\"\u001b[39m:\n\u001b[0;32m-> 7070\u001b[0m         \u001b[38;5;28;01mraise\u001b[39;00m \u001b[38;5;167;01mKeyError\u001b[39;00m(\u001b[38;5;124mf\u001b[39m\u001b[38;5;124m\"\u001b[39m\u001b[38;5;132;01m{\u001b[39;00mlabels[mask]\u001b[38;5;241m.\u001b[39mtolist()\u001b[38;5;132;01m}\u001b[39;00m\u001b[38;5;124m not found in axis\u001b[39m\u001b[38;5;124m\"\u001b[39m)\n\u001b[1;32m   7071\u001b[0m     indexer \u001b[38;5;241m=\u001b[39m indexer[\u001b[38;5;241m~\u001b[39mmask]\n\u001b[1;32m   7072\u001b[0m \u001b[38;5;28;01mreturn\u001b[39;00m \u001b[38;5;28mself\u001b[39m\u001b[38;5;241m.\u001b[39mdelete(indexer)\n",
      "\u001b[0;31mKeyError\u001b[0m: \"['last', 'first', 'unix_time', 'trans_num', 'lat', 'long'] not found in axis\""
     ]
    }
   ],
   "source": [
    "df = df.drop(['last', 'first', 'unix_time', 'trans_num', 'lat', 'long', 'cc_num'], axis=1)"
   ]
  },
  {
   "cell_type": "code",
   "execution_count": null,
   "id": "f8548b0f-785a-4c31-95d6-ae30178a893f",
   "metadata": {
    "tags": []
   },
   "outputs": [],
   "source": [
    "df.head()"
   ]
  },
  {
   "cell_type": "code",
   "execution_count": 52,
   "id": "e5d557a7-5272-48f8-b34d-5374c5d7205e",
   "metadata": {
    "tags": []
   },
   "outputs": [],
   "source": [
    "num_cols = df.loc[:, df.dtypes==np.number].columns"
   ]
  },
  {
   "cell_type": "code",
   "execution_count": 53,
   "id": "d9b151df-8890-4026-9dc5-705be6886deb",
   "metadata": {
    "tags": []
   },
   "outputs": [
    {
     "name": "stdout",
     "output_type": "stream",
     "text": [
      "Top Absolute Correlations\n",
      "category               mean_amt_per_category    0.748424\n",
      "city                   job                      0.452726\n",
      "amt                    mean_amt_per_category    0.128317\n",
      "category               amt                      0.096036\n",
      "amt                    city                     0.066912\n",
      "                       job                      0.037239\n",
      "job                    age                      0.035151\n",
      "city                   age                      0.032246\n",
      "state                  age                      0.027366\n",
      "category               city                     0.022010\n",
      "city                   state                    0.017938\n",
      "mean_amt_per_category  age                      0.017807\n",
      "city                   mean_amt_per_category    0.017256\n",
      "state                  job                      0.015273\n",
      "category               job                      0.012073\n",
      "job                    mean_amt_per_category    0.011316\n",
      "amt                    age                      0.010740\n",
      "                       state                    0.004523\n",
      "category               age                      0.002635\n",
      "state                  mean_amt_per_category    0.002002\n",
      "category               state                    0.001731\n",
      "                       distance_km              0.001474\n",
      "mean_amt_per_category  distance_km              0.001200\n",
      "distance_km            age                      0.000870\n",
      "job                    distance_km              0.000713\n",
      "amt                    distance_km              0.000615\n",
      "city                   distance_km              0.000288\n",
      "state                  distance_km              0.000269\n",
      "category               lat_std                       NaN\n",
      "                       long_std                      NaN\n",
      "amt                    lat_std                       NaN\n",
      "                       long_std                      NaN\n",
      "city                   lat_std                       NaN\n",
      "                       long_std                      NaN\n",
      "state                  lat_std                       NaN\n",
      "                       long_std                      NaN\n",
      "job                    lat_std                       NaN\n",
      "                       long_std                      NaN\n",
      "lat_std                long_std                      NaN\n",
      "                       mean_amt_per_category         NaN\n",
      "                       distance_km                   NaN\n",
      "                       age                           NaN\n",
      "long_std               mean_amt_per_category         NaN\n",
      "                       distance_km                   NaN\n",
      "                       age                           NaN\n",
      "dtype: float64\n"
     ]
    }
   ],
   "source": [
    "def get_redundant_pairs(df):\n",
    "    pairs_to_drop = set()\n",
    "    cols = df.columns\n",
    "    for i in range(0, df.shape[1]):\n",
    "        for j in range(0, i+1):\n",
    "            pairs_to_drop.add((cols[i], cols[j]))\n",
    "    return pairs_to_drop\n",
    "\n",
    "def get_top_abs_correlations(df, n=5):\n",
    "    au_corr = df.corr().abs().unstack()\n",
    "    labels_to_drop = get_redundant_pairs(df)\n",
    "    au_corr = au_corr.drop(labels=labels_to_drop).sort_values(ascending=False)\n",
    "    return au_corr[0:n]\n",
    "\n",
    "print(\"Top Absolute Correlations\")\n",
    "print(get_top_abs_correlations(df[num_cols], 50))"
   ]
  },
  {
   "cell_type": "code",
   "execution_count": 54,
   "id": "697295f6-2047-48d3-8b97-0cb839e84d55",
   "metadata": {
    "tags": []
   },
   "outputs": [],
   "source": [
    "for col in df.loc[:, df.dtypes==object].columns:\n",
    "    if df[col].nunique() < 10:\n",
    "        one_hot = pd.get_dummies(df[col], prefix=col, drop_first=True)\n",
    "        df = pd.concat((df.drop(col, axis=1), one_hot), axis=1)\n",
    "        \n",
    "    else:\n",
    "        mean_target = df.groupby(col)['is_fraud'].mean()\n",
    "        df[col] = df[col].map(mean_target)"
   ]
  },
  {
   "cell_type": "code",
   "execution_count": null,
   "id": "c62bd3c5-8112-4d55-9a8e-39e5298125cb",
   "metadata": {
    "tags": []
   },
   "outputs": [],
   "source": [
    "df.head()"
   ]
  },
  {
   "cell_type": "code",
   "execution_count": null,
   "id": "f27d8152-1b2f-4bea-afe7-da1d5b3b4715",
   "metadata": {
    "tags": []
   },
   "outputs": [],
   "source": [
    "df = df.drop('zip', axis=1)\n",
    "df = df.drop('time', axis=1)"
   ]
  },
  {
   "cell_type": "code",
   "execution_count": null,
   "id": "c8df8b75-9cb1-40e0-b685-e88a20054c46",
   "metadata": {
    "tags": []
   },
   "outputs": [],
   "source": []
  },
  {
   "cell_type": "code",
   "execution_count": null,
   "id": "5f636862-9a0a-407b-8293-908d9b42a094",
   "metadata": {},
   "outputs": [],
   "source": []
  },
  {
   "cell_type": "code",
   "execution_count": null,
   "id": "c70fb171-bbcc-475c-b0fa-5ab7ed4db062",
   "metadata": {
    "tags": []
   },
   "outputs": [],
   "source": [
    "df.to_csv('../data/df_processed.csv')"
   ]
  },
  {
   "cell_type": "code",
   "execution_count": null,
   "id": "0c0a76f7-3671-4107-9d37-943af09893f0",
   "metadata": {},
   "outputs": [],
   "source": []
  }
 ],
 "metadata": {
  "kernelspec": {
   "display_name": "Python 3 (ipykernel)",
   "language": "python",
   "name": "python3"
  },
  "language_info": {
   "codemirror_mode": {
    "name": "ipython",
    "version": 3
   },
   "file_extension": ".py",
   "mimetype": "text/x-python",
   "name": "python",
   "nbconvert_exporter": "python",
   "pygments_lexer": "ipython3",
   "version": "3.11.5"
  }
 },
 "nbformat": 4,
 "nbformat_minor": 5
}
